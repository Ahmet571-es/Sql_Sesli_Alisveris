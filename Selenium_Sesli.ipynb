{
 "cells": [
  {
   "cell_type": "code",
   "execution_count": 1,
   "metadata": {},
   "outputs": [],
   "source": [
    "from playsound import playsound\n",
    "from gtts import gTTS\n",
    "import speech_recognition as sr\n",
    "import os\n",
    "import time"
   ]
  },
  {
   "cell_type": "code",
   "execution_count": 2,
   "metadata": {},
   "outputs": [],
   "source": [
    "from selenium import webdriver"
   ]
  },
  {
   "cell_type": "code",
   "execution_count": null,
   "metadata": {},
   "outputs": [],
   "source": []
  },
  {
   "cell_type": "code",
   "execution_count": 3,
   "metadata": {},
   "outputs": [],
   "source": [
    "def speak(string):\n",
    "    tts=gTTS(text=string, lang=\"tr\")\n",
    "    file=\"answer.mp3\"\n",
    "    tts.save(file)\n",
    "    playsound(file)\n",
    "    os.remove(file)"
   ]
  },
  {
   "cell_type": "code",
   "execution_count": 10,
   "metadata": {},
   "outputs": [],
   "source": [
    "class google_chrome():\n",
    "    def __init__(self):\n",
    "        driver=webdriver.Chrome()\n",
    "        speak(\"Gugıl anasayfaya yönlendiriliyorsunuz\")\n",
    "        driver.get(\"https://www.google.com/\")"
   ]
  },
  {
   "cell_type": "code",
   "execution_count": 11,
   "metadata": {},
   "outputs": [],
   "source": [
    "class n11_site(google_chrome):\n",
    "    def __init__(self):\n",
    "        google_chrome.__init__(self)\n",
    "        time.sleep(1)\n",
    "        speak(\"n11.com alışveriş sitesine yönlendiriliyorsunuz. \")\n",
    "        time.sleep(1)\n",
    "        driver=webdriver.Chrome()\n",
    "        driver.get(\"https://www.n11.com/\")"
   ]
  },
  {
   "cell_type": "code",
   "execution_count": 13,
   "metadata": {},
   "outputs": [],
   "source": [
    "class electronic(n11_site):\n",
    "    def __init__(self):\n",
    "        n11_site.__init__(self)\n",
    "        time.sleep(1)\n",
    "        speak(\"elektıronik eşya reyonuna yönlendiriliyorsunuz.\")\n",
    "        time.sleep(1)\n",
    "        driver=webdriver.Chrome()\n",
    "        driver.get(\"https://www.n11.com/elektronik\")"
   ]
  },
  {
   "cell_type": "code",
   "execution_count": 14,
   "metadata": {},
   "outputs": [],
   "source": [
    "class telephone(electronic):\n",
    "    def __init__(self):\n",
    "        electronic.__init__(self)\n",
    "        time.sleep(1)\n",
    "        speak(\"Telefon ve aksesuarları sayfasına yönlendiriliyorsunuz\")\n",
    "        time.sleep(1)\n",
    "        driver=webdriver.Chrome()\n",
    "        driver.get(\"https://www.n11.com/telefon-ve-aksesuarlari\")"
   ]
  },
  {
   "cell_type": "code",
   "execution_count": 23,
   "metadata": {},
   "outputs": [],
   "source": [
    "class mobil_telephone(telephone):\n",
    "    def __init__(self):\n",
    "        telephone.__init__(self)\n",
    "        time.sleep(1)\n",
    "        speak(\"Cep telefonu sayfasına yönlendiriliyorsunuz\")\n",
    "        time.sleep(1)\n",
    "        driver=webdriver.Chrome()\n",
    "        driver.get(\"https://www.n11.com/telefon-ve-aksesuarlari/cep-telefonu\")\n",
    "        speak(\"Cep Telefonu için üç bin üçyüz 13 sonuç bulundu.\")\n",
    "        speak(\"Hangi ürünün fiyatını görmek istersiniz?\")\n",
    "        urun=input(\"Lütfen ürün adı giriniz = \") # pc min microfonunda sorun olduğu için bu şekilde input aldım.\n",
    "        for i in range(0,1):\n",
    "            if urun==\"Apple\":\n",
    "                speak(\"Epıl marka ürünlerin bulunduğu sayfaya yönlendiriliyorsunuz\")\n",
    "                driver.get(\"https://www.n11.com/telefon-ve-aksesuarlari/cep-telefonu?srt=PRICE_HIGH&m=Apple\")\n",
    "            elif urun==\"Huawei\" :\n",
    "                speak(\"Huawei marka ürünlerin bulunduğu sayfaya yönlendiriliyorsunuz.\")\n",
    "                drive.get(\"https://www.n11.com/telefon-ve-aksesuarlari/cep-telefonu?srt=PRICE_HIGH&m=Huawei\")\n",
    "            elif urun==\"Samsung\":\n",
    "                speak(\"Samsung marka ürünlerin olduğu sayfaya yönlendiriliyorsunuz\")\n",
    "                driver.get(\"https://www.n11.com/telefon-ve-aksesuarlari/cep-telefonu?srt=PRICE_HIGH&m=Samsung\")\n",
    "            elif urun==\"Honor\":\n",
    "                speak(\"Honor marka ürünlerin olduğu sayfaya yönlendiriliyorsunuz\")\n",
    "                driver.get(\"https://www.n11.com/telefon-ve-aksesuarlari/cep-telefonu?srt=PRICE_HIGH&m=Honor\")\n",
    "            elif urun==\"Xaomi\":\n",
    "                speak(\"Xaomi marka ürünlerin bulunduğu sayfaya yönlendiriliyorsunuz\")\n",
    "                driver.get(\"https://www.n11.com/telefon-ve-aksesuarlari/cep-telefonu?srt=PRICE_HIGH&m=Xiaomi\")\n",
    "            elif urun!=\"Apple\" or urun!=\"Huawei\" or urun!=\"Samsung\" or urun!=\"Honor\" or urun!=\"Xaomi\":\n",
    "                speak(\"sadece bu ürünlerin sayfalarına gidebilirsiniz.\")\n",
    "                break\n",
    "        driver.close()        \n",
    "                \n",
    "                \n",
    "                \n",
    "        "
   ]
  },
  {
   "cell_type": "code",
   "execution_count": 7,
   "metadata": {},
   "outputs": [],
   "source": [
    "n=n11_site()"
   ]
  },
  {
   "cell_type": "code",
   "execution_count": 5,
   "metadata": {},
   "outputs": [],
   "source": [
    "g1=google_chrome()"
   ]
  },
  {
   "cell_type": "code",
   "execution_count": 9,
   "metadata": {},
   "outputs": [],
   "source": [
    "e1=electronic()"
   ]
  },
  {
   "cell_type": "code",
   "execution_count": 24,
   "metadata": {},
   "outputs": [
    {
     "name": "stdout",
     "output_type": "stream",
     "text": [
      "Lütfen ürün adı giriniz = Apple\n"
     ]
    }
   ],
   "source": [
    "m=mobil_telephone()"
   ]
  },
  {
   "cell_type": "code",
   "execution_count": null,
   "metadata": {},
   "outputs": [],
   "source": []
  }
 ],
 "metadata": {
  "kernelspec": {
   "display_name": "Python 3",
   "language": "python",
   "name": "python3"
  },
  "language_info": {
   "codemirror_mode": {
    "name": "ipython",
    "version": 3
   },
   "file_extension": ".py",
   "mimetype": "text/x-python",
   "name": "python",
   "nbconvert_exporter": "python",
   "pygments_lexer": "ipython3",
   "version": "3.8.5"
  }
 },
 "nbformat": 4,
 "nbformat_minor": 4
}
