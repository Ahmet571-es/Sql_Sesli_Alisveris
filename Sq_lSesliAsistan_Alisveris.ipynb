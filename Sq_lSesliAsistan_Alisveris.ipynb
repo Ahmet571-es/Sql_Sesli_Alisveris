{
 "cells": [
  {
   "cell_type": "code",
   "execution_count": 1,
   "metadata": {},
   "outputs": [],
   "source": [
    "from playsound import playsound\n",
    "from gtts import gTTS\n",
    "import speech_recognition as sr\n",
    "import os"
   ]
  },
  {
   "cell_type": "code",
   "execution_count": 2,
   "metadata": {},
   "outputs": [],
   "source": [
    "def speak(string):\n",
    "    tts=gTTS(text=string,lang=\"tr\")\n",
    "    file=\"answer.mp3\"\n",
    "    tts.save(file)\n",
    "    playsound(file)\n",
    "    os.remove(file)"
   ]
  },
  {
   "cell_type": "code",
   "execution_count": 3,
   "metadata": {},
   "outputs": [],
   "source": [
    "def speak1(*args):\n",
    "    for i in args:\n",
    "        tts=gTTS(text=i,lang=\"tr\")\n",
    "        file=\"answer.mp3\"\n",
    "        tts.save(file)\n",
    "        playsound(file)\n",
    "        os.remove(file)"
   ]
  },
  {
   "cell_type": "code",
   "execution_count": 25,
   "metadata": {},
   "outputs": [],
   "source": [
    "speak1(\"Merhaba Nasılsın kardeşim iyi misin?\",\"Benim adım mehmet\")"
   ]
  },
  {
   "cell_type": "code",
   "execution_count": 4,
   "metadata": {},
   "outputs": [],
   "source": [
    "import sqlite3"
   ]
  },
  {
   "cell_type": "code",
   "execution_count": 5,
   "metadata": {},
   "outputs": [],
   "source": [
    "connection=sqlite3.connect(\"Urun_Listesi.db\")"
   ]
  },
  {
   "cell_type": "code",
   "execution_count": 6,
   "metadata": {},
   "outputs": [],
   "source": [
    "cursor=connection.cursor()"
   ]
  },
  {
   "cell_type": "code",
   "execution_count": 7,
   "metadata": {},
   "outputs": [],
   "source": [
    "def urun_listele():\n",
    "    cursor.execute(\"SELECT * FROM products\")\n",
    "    liste=cursor.fetchall()\n",
    "    for i in liste:\n",
    "        print(f\"Ürün adı={i[0]}, ürün fiyatı={i[1]}, ürün adedi={i[2]}\")\n",
    "        speak1(\"Ürün adı\",str(i[0]),\"Ürünün fiyatı\",str(i[1]),\"TL\",\"Üründen\",str(i[2]),\"adet var\")"
   ]
  },
  {
   "cell_type": "code",
   "execution_count": 10,
   "metadata": {},
   "outputs": [],
   "source": [
    "urun_listele()"
   ]
  },
  {
   "cell_type": "code",
   "execution_count": 8,
   "metadata": {},
   "outputs": [],
   "source": [
    "def veri_ekle():\n",
    "    speak(\"eklemek istediğiniz ürünün adını yazınız\")\n",
    "    name=input(\"ürün adı = \")\n",
    "    speak(\"eklenen ürünün adı\"+name)\n",
    "    speak(\"eklemek istediğiniz ürünün fiyatını yazınız\")\n",
    "    fiyat=int(input(\"fiyatını giriniz= \"))\n",
    "    speak(\"eklenen ürünün fiyatı\"+str(fiyat)+\"TL\")\n",
    "    speak(\"Bu üründen depoya kaç tane stok yaptınız lütfen yazınız\")\n",
    "    stok=int(input(\"üründen kaç adet var giriniz= \"))\n",
    "    speak(\"ürün sayısı\"+str(stok))\n",
    "    cursor.execute(\"INSERT INTO products VALUES(?,?,?)\",(name,fiyat,stok))\n",
    "    connection.commit()\n",
    "    urun_listele()"
   ]
  },
  {
   "cell_type": "code",
   "execution_count": 39,
   "metadata": {},
   "outputs": [
    {
     "name": "stdout",
     "output_type": "stream",
     "text": [
      "ürün adı = Panasonic\n",
      "fiyatını giriniz= 895\n",
      "üründen kaç adet var giriniz= 23\n"
     ]
    }
   ],
   "source": [
    "veri_ekle()"
   ]
  },
  {
   "cell_type": "code",
   "execution_count": 20,
   "metadata": {},
   "outputs": [],
   "source": [
    "def para_yatır():\n",
    "    password=input(\"Lütfen mobil şifrenizi giriniz : \")\n",
    "    #urunler=[]\n",
    "    for i in range(0,1):\n",
    "        if not password.isdigit():\n",
    "            print(\"Şifreniz rakam ile girilmelidir.\")\n",
    "            break\n",
    "        elif password.isdigit():\n",
    "            if len(password)!=6:\n",
    "                print(\"Şifreniz 6 haneli olmalıdır.\")\n",
    "                break\n",
    "            elif len(password)==6:\n",
    "                if password[0]==\"0\" or password[0]==\"1\" or password[0]==\"2\":\n",
    "                    print(\"Şifreniz 0-1-2 ile başlayamaz.\")\n",
    "                    break\n",
    "                elif password[0]!=\"0\" and password[0]!=\"1\" and password[0]!=\"2\":\n",
    "                    if password[0]==password[1]==password[2]==password[3]==password[4]==password[5]:\n",
    "                        print(\"Tüm rakamlar eşit olamaz\")\n",
    "                        break\n",
    "                    elif password[0]!=password[1]!=password[2]!=password[3]!=password[4]!=password[5]:\n",
    "                        if password[1]==password[2]==password[3]==password[4]==password[5]:\n",
    "                            print(\"Hatalı şifre\")\n",
    "                            break\n",
    "                        elif password[1]!=password[2]!=password[3]!=password[4]!=password[5]:\n",
    "                            if password[2]==password[3]==password[4]==password[5]:\n",
    "                                print(\"Hatalı şifre\")\n",
    "                                break\n",
    "                            elif password[2]!=password[3]!=password[4]!=password[5]:\n",
    "                                if password[3]==password[4]==password[5]:\n",
    "                                    print(\"Hatalı şifre\")\n",
    "                                    break\n",
    "                                elif password[3]!=password[4]!=password[5]:\n",
    "                                    if password[4]==password[5]:\n",
    "                                        print(\"Hatalı şifre\")\n",
    "                                        break\n",
    "                                    elif password[4]!=password[5]:\n",
    "                                        speak(\"Şifrenizi doğru girdiniz.\")\n",
    "                                        money=int(input(\"Yatırmak istediğiniz miktarı giriniz = \"))\n",
    "                                        speak(\"Yatırdığınız miktar\"+str(money)+\"Tele\")\n",
    "                                        print(money)\n",
    "                                        cursor.execute(\"SELECT * FROM products\")\n",
    "                                        liste1=cursor.fetchall()\n",
    "                                        speak(\"Hangi üründen almak istersiniz? \")\n",
    "                                        urun_ad=input(\"Ürün ad = \")\n",
    "                                        for i in liste1:\n",
    "                                            if urun_ad==i[0]:\n",
    "                                                #urunler.append(i[1])\n",
    "                                                print(f\"Ürün adı={i[0]}, ürün fiyatı={i[1]}, ürün adedi={i[2]}\")\n",
    "                                                speak(\"almak istediğiniz Ürünün adı\"+i[0])\n",
    "                                                speak(\"almak istediğiniz ürünün fiyatı\"+i[1]+\"tele\")\n",
    "                                                print(f\"Kartınızda bulunan bakiye={money}\")\n",
    "                                                speak(\"Kartınızdaki para miktarı\"+money+\"tele\")\n",
    "                                                if money<i[1]:\n",
    "                                                    print(\"Kartınızda yeterince bakiyeniz bulunamaktadır.\")\n",
    "                                                elif money>i[1]:\n",
    "                                                    print(f\"alışverişiniz başarı ile tamamlandı. kalan bakiyeniz={money-i[1]}\")\n",
    "                                                    speak(\"Güzel günlerde kullanmanız dileğiyle.\")\n",
    "                                        "
   ]
  },
  {
   "cell_type": "code",
   "execution_count": 19,
   "metadata": {},
   "outputs": [
    {
     "name": "stdout",
     "output_type": "stream",
     "text": [
      "Lütfen mobil şifrenizi giriniz : 571023\n",
      "Yatırmak istediğiniz miktarı giriniz = 1420\n",
      "1420\n",
      "Ürün ad = Apple\n",
      "Ürün adı=Apple, ürün fiyatı=1235, ürün adedi=15\n",
      "Kartınızda bulunan bakiye=1420\n",
      "alışverişiniz başarı ile tamamlandı. kalan bakiyeniz=185\n"
     ]
    }
   ],
   "source": [
    "para_yatır()"
   ]
  },
  {
   "cell_type": "code",
   "execution_count": 11,
   "metadata": {},
   "outputs": [
    {
     "data": {
      "text/plain": [
       "6"
      ]
     },
     "execution_count": 11,
     "metadata": {},
     "output_type": "execute_result"
    }
   ],
   "source": [
    "sifre=\"571023\"\n",
    "len(sifre)"
   ]
  },
  {
   "cell_type": "code",
   "execution_count": null,
   "metadata": {},
   "outputs": [],
   "source": []
  }
 ],
 "metadata": {
  "kernelspec": {
   "display_name": "Python 3",
   "language": "python",
   "name": "python3"
  },
  "language_info": {
   "codemirror_mode": {
    "name": "ipython",
    "version": 3
   },
   "file_extension": ".py",
   "mimetype": "text/x-python",
   "name": "python",
   "nbconvert_exporter": "python",
   "pygments_lexer": "ipython3",
   "version": "3.8.5"
  }
 },
 "nbformat": 4,
 "nbformat_minor": 4
}
